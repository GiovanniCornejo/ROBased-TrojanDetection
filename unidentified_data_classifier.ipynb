{
 "cells": [
  {
   "cell_type": "markdown",
   "metadata": {},
   "source": [
    "# Classifier Training with Unidentified Data\n",
    "\n",
    "This notebook performs the training of a classifier using unidentified samples, with no knowledge about the samples, whether they are golden (clean), Trojan-inserted, or a mixture of both. Since the data is unlabeled, the classifier must learn under uncertain conditions.\n",
    "\n",
    "## Table of Contents\n",
    "1. [Introduction](#Introduction)\n",
    "    - Overview of Training with Unidentified Data\n",
    "    - Objectives and Challenges\n",
    "2. [Data Preparation](#Data-Preparation)\n",
    "    - Loading Unidentified Data Samples\n",
    "    - Data Exploration and Preprocessing\n",
    "3. [Feature Engineering](#Feature-Engineering)\n",
    "    - Feature Selection and Extraction\n",
    "    - Normalization and Scaling Techniques\n",
    "    - Handling Potential Mixed Data (Golden vs. Trojan)\n",
    "4. [Model Selection](#Model-Selection)\n",
    "    - Overview of Classifiers for Mixed Data\n",
    "    - Model Selection Criteria\n",
    "5. [Training the Classifier](#Training-the-Classifier)\n",
    "    - Model Training with Unidentified Data\n",
    "    - Cross-Validation Techniques\n",
    "6. [Evaluating the Classifier](#Evaluating-the-Classifier)\n",
    "    - Metrics for Evaluation (Accuracy, Precision, Recall)\n",
    "    - Performance Analysis and Visualization\n",
    "7. [Conclusion](#Conclusion)\n",
    "    - Summary of Results\n",
    "    - Limitations of Training with Only Golden Data\n",
    "8. [Future Work](#Future-Work)\n",
    "    - Suggestions for Further Model Improvement"
   ]
  },
  {
   "cell_type": "markdown",
   "metadata": {},
   "source": [
    "## Introduction"
   ]
  },
  {
   "cell_type": "markdown",
   "metadata": {},
   "source": [
    "## Data Preparation"
   ]
  },
  {
   "cell_type": "code",
   "execution_count": 2,
   "metadata": {},
   "outputs": [],
   "source": [
    "import numpy as np\n",
    "import pandas as pd\n",
    "\n",
    "WS = pd.read_excel('ROFreq/Chip1.xlsx')\n",
    "arr = np.array(WS)\n",
    "path = 'ROFreq/Chip'\n",
    "type = '.xlsx'\n",
    "chipdata = np.zeros((33,25,8))\n",
    "avgdata = np.zeros((33,8))\n",
    "golddata = np.zeros((33,2,8))\n",
    "for i in range(1,34):\n",
    "    file = path + str(i)+ type\n",
    "    excel = pd.read_excel(file,header=None)\n",
    "    \n",
    "    #Index is (Chipx, row, column)\n",
    "    chipdata[i-1,:,:] = np.array(excel)\n",
    "    \n",
    "    #Take average of all columns\n",
    "    for y in range(0,8):\n",
    "        #Index is (Chip. column\n",
    "        avgdata[i-1,y] = np.mean(golddata[i-1,:,y])    \n",
    "#avgdata is each chip column average frequency from golden data"
   ]
  },
  {
   "cell_type": "code",
   "execution_count": 3,
   "metadata": {},
   "outputs": [],
   "source": [
    "rng = np.random.default_rng(243)\n",
    "case1 = rng.integers(low=0, high=33, size=6)\n",
    "case2 = rng.integers(low=0, high=33, size=12)\n",
    "case3 = rng.integers(low=0, high=33, size=24)"
   ]
  },
  {
   "cell_type": "markdown",
   "metadata": {},
   "source": [
    "## Feature Engineering"
   ]
  },
  {
   "cell_type": "markdown",
   "metadata": {},
   "source": [
    "## Model Selection"
   ]
  },
  {
   "cell_type": "markdown",
   "metadata": {},
   "source": [
    "## Training the Classifier"
   ]
  },
  {
   "cell_type": "markdown",
   "metadata": {},
   "source": [
    "## Evaluating the Classifier"
   ]
  },
  {
   "cell_type": "markdown",
   "metadata": {},
   "source": [
    "## Conclusion"
   ]
  },
  {
   "cell_type": "markdown",
   "metadata": {},
   "source": [
    "## Future Work"
   ]
  }
 ],
 "metadata": {
  "kernelspec": {
   "display_name": "Python 3 (ipykernel)",
   "language": "python",
   "name": "python3"
  },
  "language_info": {
   "codemirror_mode": {
    "name": "ipython",
    "version": 3
   },
   "file_extension": ".py",
   "mimetype": "text/x-python",
   "name": "python",
   "nbconvert_exporter": "python",
   "pygments_lexer": "ipython3",
   "version": "3.12.4"
  }
 },
 "nbformat": 4,
 "nbformat_minor": 4
}
