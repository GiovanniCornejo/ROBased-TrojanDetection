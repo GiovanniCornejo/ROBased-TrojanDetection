{
 "cells": [
  {
   "cell_type": "markdown",
   "metadata": {},
   "source": [
    "# Classifier Training with Golden Data\n",
    "\n",
    "This notebook performs the training of a classifier using only \"golden\" (known clean) data samples. By focusing solely on golden data, we aim to create a reliable classifier based on clean and trustworthy samples.\n",
    "\n",
    "## Table of Contents\n",
    "1. [Introduction](#Introduction)\n",
    "    - Overview of Training with Golden Data\n",
    "    - Objectives and Challenges\n",
    "2. [Data Preparation](#Data-Preparation)\n",
    "    - Loading Golden Data Samples\n",
    "    - Prepare \n",
    "    - Data Exploration and Preprocessing\n",
    "3. [Feature Engineering](#Feature-Engineering)\n",
    "    - Feature Selection and Extraction\n",
    "    - Normalization and Scaling Techniques\n",
    "4. [Model Selection](#Model-Selection)\n",
    "    - Overview of Classifiers for Golden Data\n",
    "    - Model Selection Criteria\n",
    "5. [Training the Classifier](#Training-the-Classifier)\n",
    "    - Model Training with Golden Data\n",
    "    - Cross-Validation Techniques\n",
    "6. [Evaluating the Classifier](#Evaluating-the-Classifier)\n",
    "    - Metrics for Evaluation (Accuracy, Precision, Recall)\n",
    "    - Performance Analysis and Visualization\n",
    "7. [Conclusion](#Conclusion)\n",
    "    - Summary of Results\n",
    "    - Limitations of Training with Only Golden Data\n",
    "8. [Future Work](#Future-Work)\n",
    "    - Suggestions for Further Model Improvement"
   ]
  },
  {
   "cell_type": "markdown",
   "metadata": {
    "jp-MarkdownHeadingCollapsed": true
   },
   "source": [
    "## Introduction\n",
    "\n",
    "### Overview of Training with Golden Data\n",
    "\n",
    "One method of hardware Trojan detection involves monitoring changes in the frequencies of *ring oscillators* (ROs) on the chip, which can reveal anomalies in power consumption indicative of Trojan activity. In this notebook, the classifier is trained using only data from *golden* (Trojan-free) chips, making it necessary to establsh a reliable baseline of normal behavior without direct examples of Trojan-related deviations.\n",
    "\n",
    "### Challenges and Considerations\n",
    "\n",
    "The primary challenge is to accurately detect Trojans using a classifier trained solely on golden data. This approach presents several difficulties:\n",
    "* **No Trojan-Specific Training Data**: The classifier must learn normal behavior from golden chips alone, relying on subtle deviations from this norm to identify Trojans\n",
    "* **Natural Variation in Chips**: Manufacturing differences cause natural variations in RO frequencies even among Trojan-free chips, complicating the definition of normal.\n",
    "* **Subtle Trojan Impact**: Trojans may induce only slight frequency changes, requiring the classifier to be sensitive enough to detect small anomalies.\n",
    "* **Preference of False Positives Over False Negatives**: False negatives pose a higher security risk than false positives. Therefore, the classifier should err on the side of caution, prioritizing sensitivity to potential anomalies, even if it results in a higher false positive rate."
   ]
  },
  {
   "cell_type": "markdown",
   "metadata": {},
   "source": [
    "## Data Preparation"
   ]
  },
  {
   "cell_type": "markdown",
   "metadata": {},
   "source": [
    "### Loading Golden Data Samples\n",
    "Transfer data in excel files to numpy arrays and average golden data samples <br>"
   ]
  },
  {
   "cell_type": "code",
   "execution_count": null,
   "metadata": {},
   "outputs": [
    {
     "name": "stdout",
     "output_type": "stream",
     "text": [
      "Chip data shape: (33, 25, 8)\n",
      "Golden data shape: (33, 2, 8)\n",
      "Average data shape: (33, 8)\n"
     ]
    }
   ],
   "source": [
    "import numpy as np\n",
    "import pandas as pd\n",
    "\n",
    "WS = pd.read_excel('ROFreq/Chip1.xlsx')\n",
    "arr = np.array(WS)\n",
    "\n",
    "# Define paths for data files\n",
    "path = 'ROFreq/Chip'\n",
    "type = '.xlsx'\n",
    "\n",
    "chipdata = np.zeros((33, 25, 8))  # Shape: (33 chips, 25 rows, 8 columns of RO frequency)\n",
    "golddata = np.zeros((33, 2, 8))   # Shape: (33 chips, 2 golden rows, 8 columns)\n",
    "avgdata = np.zeros((33, 8))       # Shape: (33 chips, average RO frequency per column)\n",
    "\n",
    "for i in range(1,34):\n",
    "    file = path + str(i)+ type\n",
    "    excel = pd.read_excel(file,header=None)\n",
    "    \n",
    "    # Index is (Chipx, row, column)\n",
    "    # row = trojan-free/trojan-inserted data\n",
    "    # column = RO frequency in network\n",
    "    chipdata[i-1,:,:] = np.array(excel)\n",
    "    \n",
    "    # Golden data in rows 1 and 25\n",
    "    golddata[i-1,0,:] = chipdata[i-1,0,:]\n",
    "    golddata[i-1,1,:] = chipdata[i-1,24,:]\n",
    "    \n",
    "    # Take average of all RO freqs\n",
    "    for y in range(0,8):\n",
    "        #Index is (Chipx, column)\n",
    "        avgdata[i-1,y] = np.mean(golddata[i-1,:,y])    \n",
    "\n",
    "print(\"Chip data shape:\", chipdata.shape)\n",
    "print(\"Golden data shape:\", golddata.shape)\n",
    "print(\"Average data shape:\", avgdata.shape)"
   ]
  },
  {
   "cell_type": "markdown",
   "metadata": {},
   "source": [
    "Select Data for training in Case 1, 2, 3"
   ]
  },
  {
   "cell_type": "code",
   "execution_count": null,
   "metadata": {},
   "outputs": [],
   "source": [
    "# Randomly select training data for each case\n",
    "rng = np.random.default_rng(243)\n",
    "case1 = rng.choice(range(33), size=6, replace=False)   # 6 samples for Case 1\n",
    "case2 = rng.choice(range(33), size=12, replace=False)  # 12 samples for Case 2\n",
    "case3 = rng.choice(range(33), size=24, replace=False)  # 24 samples for Case 3"
   ]
  },
  {
   "cell_type": "markdown",
   "metadata": {},
   "source": [
    "## Feature Engineering"
   ]
  },
  {
   "cell_type": "markdown",
   "metadata": {},
   "source": [
    "## Model Selection"
   ]
  },
  {
   "cell_type": "markdown",
   "metadata": {},
   "source": [
    "## Training the Classifier"
   ]
  },
  {
   "cell_type": "markdown",
   "metadata": {},
   "source": [
    "## Evaluating the Classifier"
   ]
  },
  {
   "cell_type": "markdown",
   "metadata": {},
   "source": [
    "## Conclusion"
   ]
  },
  {
   "cell_type": "markdown",
   "metadata": {},
   "source": [
    "## Future Work"
   ]
  }
 ],
 "metadata": {
  "kernelspec": {
   "display_name": "Python 3",
   "language": "python",
   "name": "python3"
  },
  "language_info": {
   "codemirror_mode": {
    "name": "ipython",
    "version": 3
   },
   "file_extension": ".py",
   "mimetype": "text/x-python",
   "name": "python",
   "nbconvert_exporter": "python",
   "pygments_lexer": "ipython3",
   "version": "3.11.5"
  }
 },
 "nbformat": 4,
 "nbformat_minor": 4
}
